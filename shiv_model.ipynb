{
  "nbformat": 4,
  "nbformat_minor": 0,
  "metadata": {
    "colab": {
      "name": "shiv_model",
      "provenance": [],
      "include_colab_link": true
    },
    "kernelspec": {
      "name": "python3",
      "display_name": "Python 3"
    }
  },
  "cells": [
    {
      "cell_type": "markdown",
      "metadata": {
        "id": "view-in-github",
        "colab_type": "text"
      },
      "source": [
        "<a href=\"https://colab.research.google.com/github/shivkaansh/burnout/blob/master/shiv_model.ipynb\" target=\"_parent\"><img src=\"https://colab.research.google.com/assets/colab-badge.svg\" alt=\"Open In Colab\"/></a>"
      ]
    },
    {
      "cell_type": "code",
      "metadata": {
        "id": "ZzMXeTqXko-n"
      },
      "source": [
        "import numpy as np # you know why we used\n",
        "import pandas as pd # dataframe kisme karenge fir ye use nai kiya to\n",
        "from sklearn.metrics import r2_score "
      ],
      "execution_count": 230,
      "outputs": []
    },
    {
      "cell_type": "code",
      "metadata": {
        "colab": {
          "base_uri": "https://localhost:8080/"
        },
        "id": "_9qNH7h7ruXZ",
        "outputId": "5227b8ef-ba51-4fa8-8411-e5544317938f"
      },
      "source": [
        "from google.colab import drive\n",
        "drive.mount('/content/drive')"
      ],
      "execution_count": 231,
      "outputs": [
        {
          "output_type": "stream",
          "text": [
            "Drive already mounted at /content/drive; to attempt to forcibly remount, call drive.mount(\"/content/drive\", force_remount=True).\n"
          ],
          "name": "stdout"
        }
      ]
    },
    {
      "cell_type": "code",
      "metadata": {
        "colab": {
          "base_uri": "https://localhost:8080/"
        },
        "id": "Th107IptJ9YF",
        "outputId": "adde4236-5491-45f2-abf3-dde8ad05a9d6"
      },
      "source": [
        "# Import the dataset\n",
        "\n",
        "# Apni apni file ka path dedo\n",
        "\n",
        "train_data = pd.read_csv(\"/content/drive/MyDrive/train_data/train.csv\") \n",
        "test_data = pd.read_csv(\"/content/drive/MyDrive/train_data/test.csv\")\n",
        "\n",
        "print(train_data.shape)\n",
        "print(test_data.shape)"
      ],
      "execution_count": 232,
      "outputs": [
        {
          "output_type": "stream",
          "text": [
            "(22750, 9)\n",
            "(12250, 8)\n"
          ],
          "name": "stdout"
        }
      ]
    },
    {
      "cell_type": "code",
      "metadata": {
        "colab": {
          "base_uri": "https://localhost:8080/",
          "height": 238
        },
        "id": "_j6RjSZELK64",
        "outputId": "808609e5-8ccc-452a-99b1-163bed5230ff"
      },
      "source": [
        "train_data.head()"
      ],
      "execution_count": 233,
      "outputs": [
        {
          "output_type": "execute_result",
          "data": {
            "text/html": [
              "<div>\n",
              "<style scoped>\n",
              "    .dataframe tbody tr th:only-of-type {\n",
              "        vertical-align: middle;\n",
              "    }\n",
              "\n",
              "    .dataframe tbody tr th {\n",
              "        vertical-align: top;\n",
              "    }\n",
              "\n",
              "    .dataframe thead th {\n",
              "        text-align: right;\n",
              "    }\n",
              "</style>\n",
              "<table border=\"1\" class=\"dataframe\">\n",
              "  <thead>\n",
              "    <tr style=\"text-align: right;\">\n",
              "      <th></th>\n",
              "      <th>Employee ID</th>\n",
              "      <th>Date of Joining</th>\n",
              "      <th>Gender</th>\n",
              "      <th>Company Type</th>\n",
              "      <th>WFH Setup Available</th>\n",
              "      <th>Designation</th>\n",
              "      <th>Resource Allocation</th>\n",
              "      <th>Mental Fatigue Score</th>\n",
              "      <th>Burn Rate</th>\n",
              "    </tr>\n",
              "  </thead>\n",
              "  <tbody>\n",
              "    <tr>\n",
              "      <th>0</th>\n",
              "      <td>fffe32003000360033003200</td>\n",
              "      <td>2008-09-30</td>\n",
              "      <td>Female</td>\n",
              "      <td>Service</td>\n",
              "      <td>No</td>\n",
              "      <td>2.0</td>\n",
              "      <td>3.0</td>\n",
              "      <td>3.8</td>\n",
              "      <td>0.16</td>\n",
              "    </tr>\n",
              "    <tr>\n",
              "      <th>1</th>\n",
              "      <td>fffe3700360033003500</td>\n",
              "      <td>2008-11-30</td>\n",
              "      <td>Male</td>\n",
              "      <td>Service</td>\n",
              "      <td>Yes</td>\n",
              "      <td>1.0</td>\n",
              "      <td>2.0</td>\n",
              "      <td>5.0</td>\n",
              "      <td>0.36</td>\n",
              "    </tr>\n",
              "    <tr>\n",
              "      <th>2</th>\n",
              "      <td>fffe31003300320037003900</td>\n",
              "      <td>2008-03-10</td>\n",
              "      <td>Female</td>\n",
              "      <td>Product</td>\n",
              "      <td>Yes</td>\n",
              "      <td>2.0</td>\n",
              "      <td>NaN</td>\n",
              "      <td>5.8</td>\n",
              "      <td>0.49</td>\n",
              "    </tr>\n",
              "    <tr>\n",
              "      <th>3</th>\n",
              "      <td>fffe32003400380032003900</td>\n",
              "      <td>2008-11-03</td>\n",
              "      <td>Male</td>\n",
              "      <td>Service</td>\n",
              "      <td>Yes</td>\n",
              "      <td>1.0</td>\n",
              "      <td>1.0</td>\n",
              "      <td>2.6</td>\n",
              "      <td>0.20</td>\n",
              "    </tr>\n",
              "    <tr>\n",
              "      <th>4</th>\n",
              "      <td>fffe31003900340031003600</td>\n",
              "      <td>2008-07-24</td>\n",
              "      <td>Female</td>\n",
              "      <td>Service</td>\n",
              "      <td>No</td>\n",
              "      <td>3.0</td>\n",
              "      <td>7.0</td>\n",
              "      <td>6.9</td>\n",
              "      <td>0.52</td>\n",
              "    </tr>\n",
              "  </tbody>\n",
              "</table>\n",
              "</div>"
            ],
            "text/plain": [
              "                Employee ID Date of Joining  ... Mental Fatigue Score Burn Rate\n",
              "0  fffe32003000360033003200      2008-09-30  ...                  3.8      0.16\n",
              "1      fffe3700360033003500      2008-11-30  ...                  5.0      0.36\n",
              "2  fffe31003300320037003900      2008-03-10  ...                  5.8      0.49\n",
              "3  fffe32003400380032003900      2008-11-03  ...                  2.6      0.20\n",
              "4  fffe31003900340031003600      2008-07-24  ...                  6.9      0.52\n",
              "\n",
              "[5 rows x 9 columns]"
            ]
          },
          "metadata": {
            "tags": []
          },
          "execution_count": 233
        }
      ]
    },
    {
      "cell_type": "code",
      "metadata": {
        "colab": {
          "base_uri": "https://localhost:8080/"
        },
        "id": "2O0QHjZZtLET",
        "outputId": "dc6273ff-8f1c-41f2-f2a7-8c5b81db3ac7"
      },
      "source": [
        "train_data.dtypes"
      ],
      "execution_count": 234,
      "outputs": [
        {
          "output_type": "execute_result",
          "data": {
            "text/plain": [
              "Employee ID              object\n",
              "Date of Joining          object\n",
              "Gender                   object\n",
              "Company Type             object\n",
              "WFH Setup Available      object\n",
              "Designation             float64\n",
              "Resource Allocation     float64\n",
              "Mental Fatigue Score    float64\n",
              "Burn Rate               float64\n",
              "dtype: object"
            ]
          },
          "metadata": {
            "tags": []
          },
          "execution_count": 234
        }
      ]
    },
    {
      "cell_type": "code",
      "metadata": {
        "colab": {
          "base_uri": "https://localhost:8080/"
        },
        "id": "6K_jkDhfgg26",
        "outputId": "33b126cf-efd2-4f21-c278-512ae69e5ad8"
      },
      "source": [
        "# check the null values in test data\n",
        "null_values = test_data.isnull().sum()\n",
        "print(null_values)"
      ],
      "execution_count": 235,
      "outputs": [
        {
          "output_type": "stream",
          "text": [
            "Employee ID             0\n",
            "Date of Joining         0\n",
            "Gender                  0\n",
            "Company Type            0\n",
            "WFH Setup Available     0\n",
            "Designation             0\n",
            "Resource Allocation     0\n",
            "Mental Fatigue Score    0\n",
            "dtype: int64\n"
          ],
          "name": "stdout"
        }
      ]
    },
    {
      "cell_type": "code",
      "metadata": {
        "colab": {
          "base_uri": "https://localhost:8080/"
        },
        "id": "dpHpsmxZgzHo",
        "outputId": "39901344-7af5-4c75-a753-65e3640c1945"
      },
      "source": [
        "# check the null values in train data data\n",
        "train_null_values = train_data.isnull().sum()\n",
        "print(train_null_values)"
      ],
      "execution_count": 236,
      "outputs": [
        {
          "output_type": "stream",
          "text": [
            "Employee ID                0\n",
            "Date of Joining            0\n",
            "Gender                     0\n",
            "Company Type               0\n",
            "WFH Setup Available        0\n",
            "Designation                0\n",
            "Resource Allocation     1381\n",
            "Mental Fatigue Score    2117\n",
            "Burn Rate               1124\n",
            "dtype: int64\n"
          ],
          "name": "stdout"
        }
      ]
    },
    {
      "cell_type": "code",
      "metadata": {
        "id": "7_1XwkCWOZP6"
      },
      "source": [
        "# Null Values removing\n",
        "train_data.dropna(axis=0,inplace=True, how='all', subset= [\"Burn Rate\"])"
      ],
      "execution_count": 237,
      "outputs": []
    },
    {
      "cell_type": "code",
      "metadata": {
        "id": "orMj4OlhtR6r"
      },
      "source": [
        "# Changing the dtypes of DOJ, Gender, Companytype\n",
        "# DOJ\n",
        "\n",
        "# getting the month from data of join\n",
        "train_data[\"Date of Joining\"] = pd.to_datetime(train_data[\"Date of Joining\"])\n",
        "test_data[\"Date of Joining\"] = pd.to_datetime(test_data[\"Date of Joining\"])\n",
        "\n",
        "train_data[\"Month\"] = train_data[\"Date of Joining\"].dt.month\n",
        "test_data[\"Month\"] = test_data[\"Date of Joining\"].dt.month\n",
        "\n",
        "train_data.drop(labels=[\"Date of Joining\"], axis=1, inplace=True)\n",
        "test_data.drop(labels=[\"Date of Joining\"], axis=1, inplace=True)"
      ],
      "execution_count": 238,
      "outputs": []
    },
    {
      "cell_type": "code",
      "metadata": {
        "id": "AopB_anWvwT8"
      },
      "source": [
        "# Gender\n",
        "# replacing female with 0 and male with 1\n",
        "\n",
        "train_data[\"Gender\"].replace({'Female':0,'Male':1}, inplace=True)\n",
        "test_data[\"Gender\"].replace({'Female':0,'Male':1}, inplace=True)"
      ],
      "execution_count": 239,
      "outputs": []
    },
    {
      "cell_type": "code",
      "metadata": {
        "colab": {
          "base_uri": "https://localhost:8080/"
        },
        "id": "l0EWPSNIwQI3",
        "outputId": "f1f19c0a-f2df-43f4-e5b6-1e03e51d8e40"
      },
      "source": [
        "# Employee ID unique\n",
        "print(\"Unique Employee ID in training set \", train_data[\"Employee ID\"].nunique())\n",
        "print(\"Unique Employee ID in training set \",test_data[\"Employee ID\"].nunique())"
      ],
      "execution_count": 240,
      "outputs": [
        {
          "output_type": "stream",
          "text": [
            "Unique Employee ID in training set  21626\n",
            "Unique Employee ID in training set  12250\n"
          ],
          "name": "stdout"
        }
      ]
    },
    {
      "cell_type": "code",
      "metadata": {
        "colab": {
          "base_uri": "https://localhost:8080/"
        },
        "id": "BcklWsQKwXka",
        "outputId": "16f3239f-cba0-4ff4-d9d6-cb0d708f0ad2"
      },
      "source": [
        "# Company type \n",
        "\n",
        "# replacing service with 0 and product 1\n",
        "print(\"Unique Values in Company Type column in training set\" , train_data[\"Company Type\"].unique())\n",
        "print(\"Unique Values in Company Type column in Test Set\",test_data[\"Company Type\"].unique())\n",
        "\n",
        "train_data[\"Company Type\"].replace({'Service':0,'Product':1}, inplace=True)\n",
        "test_data[\"Company Type\"].replace({'Service':0,'Product':1}, inplace=True)"
      ],
      "execution_count": 241,
      "outputs": [
        {
          "output_type": "stream",
          "text": [
            "Unique Values in Company Type column in training set ['Service' 'Product']\n",
            "Unique Values in Company Type column in Test Set ['Service' 'Product']\n"
          ],
          "name": "stdout"
        }
      ]
    },
    {
      "cell_type": "code",
      "metadata": {
        "colab": {
          "base_uri": "https://localhost:8080/"
        },
        "id": "MOqGQ0eAQ88S",
        "outputId": "ffd539d9-f859-48ce-b025-80d84f8b2ad6"
      },
      "source": [
        "# WFH Setup Available\n",
        "\n",
        "# replacing service with 0 and product 1\n",
        "print(\"Unique Values in WFH column in training set\" , train_data[\"WFH Setup Available\"].unique())\n",
        "print(\"Unique Values in WFH column in Test Set\",test_data[\"WFH Setup Available\"].unique())\n",
        "\n",
        "train_data[\"WFH Setup Available\"].replace({'No':0,'Yes':1}, inplace=True)\n",
        "test_data[\"WFH Setup Available\"].replace({'No':0,'Yes':1}, inplace=True)"
      ],
      "execution_count": 242,
      "outputs": [
        {
          "output_type": "stream",
          "text": [
            "Unique Values in WFH column in training set ['No' 'Yes']\n",
            "Unique Values in WFH column in Test Set ['No' 'Yes']\n"
          ],
          "name": "stdout"
        }
      ]
    },
    {
      "cell_type": "code",
      "metadata": {
        "id": "XVLfRK6uyes-"
      },
      "source": [
        "# changing designation datatype\n",
        "train_data[\"Designation\"] = train_data[\"Designation\"].astype(np.int32)\n",
        "test_data[\"Designation\"] = test_data[\"Designation\"].astype(np.int32)"
      ],
      "execution_count": 243,
      "outputs": []
    },
    {
      "cell_type": "code",
      "metadata": {
        "colab": {
          "base_uri": "https://localhost:8080/"
        },
        "id": "XoetYg9UwyeL",
        "outputId": "ae59be85-56c4-40f6-9831-a3367a9a9991"
      },
      "source": [
        "train_data.dtypes"
      ],
      "execution_count": 244,
      "outputs": [
        {
          "output_type": "execute_result",
          "data": {
            "text/plain": [
              "Employee ID              object\n",
              "Gender                    int64\n",
              "Company Type              int64\n",
              "WFH Setup Available       int64\n",
              "Designation               int32\n",
              "Resource Allocation     float64\n",
              "Mental Fatigue Score    float64\n",
              "Burn Rate               float64\n",
              "Month                     int64\n",
              "dtype: object"
            ]
          },
          "metadata": {
            "tags": []
          },
          "execution_count": 244
        }
      ]
    },
    {
      "cell_type": "code",
      "metadata": {
        "colab": {
          "base_uri": "https://localhost:8080/",
          "height": 221
        },
        "id": "DG5pUwdOzULO",
        "outputId": "dc808d00-9f97-44e1-a822-92321a118ab1"
      },
      "source": [
        "train_data.head()"
      ],
      "execution_count": 245,
      "outputs": [
        {
          "output_type": "execute_result",
          "data": {
            "text/html": [
              "<div>\n",
              "<style scoped>\n",
              "    .dataframe tbody tr th:only-of-type {\n",
              "        vertical-align: middle;\n",
              "    }\n",
              "\n",
              "    .dataframe tbody tr th {\n",
              "        vertical-align: top;\n",
              "    }\n",
              "\n",
              "    .dataframe thead th {\n",
              "        text-align: right;\n",
              "    }\n",
              "</style>\n",
              "<table border=\"1\" class=\"dataframe\">\n",
              "  <thead>\n",
              "    <tr style=\"text-align: right;\">\n",
              "      <th></th>\n",
              "      <th>Employee ID</th>\n",
              "      <th>Gender</th>\n",
              "      <th>Company Type</th>\n",
              "      <th>WFH Setup Available</th>\n",
              "      <th>Designation</th>\n",
              "      <th>Resource Allocation</th>\n",
              "      <th>Mental Fatigue Score</th>\n",
              "      <th>Burn Rate</th>\n",
              "      <th>Month</th>\n",
              "    </tr>\n",
              "  </thead>\n",
              "  <tbody>\n",
              "    <tr>\n",
              "      <th>0</th>\n",
              "      <td>fffe32003000360033003200</td>\n",
              "      <td>0</td>\n",
              "      <td>0</td>\n",
              "      <td>0</td>\n",
              "      <td>2</td>\n",
              "      <td>3.0</td>\n",
              "      <td>3.8</td>\n",
              "      <td>0.16</td>\n",
              "      <td>9</td>\n",
              "    </tr>\n",
              "    <tr>\n",
              "      <th>1</th>\n",
              "      <td>fffe3700360033003500</td>\n",
              "      <td>1</td>\n",
              "      <td>0</td>\n",
              "      <td>1</td>\n",
              "      <td>1</td>\n",
              "      <td>2.0</td>\n",
              "      <td>5.0</td>\n",
              "      <td>0.36</td>\n",
              "      <td>11</td>\n",
              "    </tr>\n",
              "    <tr>\n",
              "      <th>2</th>\n",
              "      <td>fffe31003300320037003900</td>\n",
              "      <td>0</td>\n",
              "      <td>1</td>\n",
              "      <td>1</td>\n",
              "      <td>2</td>\n",
              "      <td>NaN</td>\n",
              "      <td>5.8</td>\n",
              "      <td>0.49</td>\n",
              "      <td>3</td>\n",
              "    </tr>\n",
              "    <tr>\n",
              "      <th>3</th>\n",
              "      <td>fffe32003400380032003900</td>\n",
              "      <td>1</td>\n",
              "      <td>0</td>\n",
              "      <td>1</td>\n",
              "      <td>1</td>\n",
              "      <td>1.0</td>\n",
              "      <td>2.6</td>\n",
              "      <td>0.20</td>\n",
              "      <td>11</td>\n",
              "    </tr>\n",
              "    <tr>\n",
              "      <th>4</th>\n",
              "      <td>fffe31003900340031003600</td>\n",
              "      <td>0</td>\n",
              "      <td>0</td>\n",
              "      <td>0</td>\n",
              "      <td>3</td>\n",
              "      <td>7.0</td>\n",
              "      <td>6.9</td>\n",
              "      <td>0.52</td>\n",
              "      <td>7</td>\n",
              "    </tr>\n",
              "  </tbody>\n",
              "</table>\n",
              "</div>"
            ],
            "text/plain": [
              "                Employee ID  Gender  ...  Burn Rate  Month\n",
              "0  fffe32003000360033003200       0  ...       0.16      9\n",
              "1      fffe3700360033003500       1  ...       0.36     11\n",
              "2  fffe31003300320037003900       0  ...       0.49      3\n",
              "3  fffe32003400380032003900       1  ...       0.20     11\n",
              "4  fffe31003900340031003600       0  ...       0.52      7\n",
              "\n",
              "[5 rows x 9 columns]"
            ]
          },
          "metadata": {
            "tags": []
          },
          "execution_count": 245
        }
      ]
    },
    {
      "cell_type": "code",
      "metadata": {
        "colab": {
          "base_uri": "https://localhost:8080/"
        },
        "id": "-m5Iwz7ZO5TU",
        "outputId": "37efd635-05a2-43c6-ab0e-db8bff2d1d9f"
      },
      "source": [
        "X_train = train_data.drop(labels=[\"Employee ID\", \"Burn Rate\",\"Month\"], axis=1)\n",
        "X_test = test_data.drop(labels=[\"Employee ID\",\"Month\"], axis=1)\n",
        "y_train = train_data[\"Burn Rate\"]\n",
        "\n",
        "print(X_train.shape)\n",
        "print(X_test.shape)\n",
        "print(y_train.shape)"
      ],
      "execution_count": 246,
      "outputs": [
        {
          "output_type": "stream",
          "text": [
            "(21626, 6)\n",
            "(12250, 6)\n",
            "(21626,)\n"
          ],
          "name": "stdout"
        }
      ]
    },
    {
      "cell_type": "code",
      "metadata": {
        "colab": {
          "base_uri": "https://localhost:8080/"
        },
        "id": "u3LLPlpLxL9N",
        "outputId": "5a2ac483-843b-4573-953f-222277e23b89"
      },
      "source": [
        "# Training a model\n",
        "! pip install catboost\n",
        "from catboost import CatBoostRegressor\n",
        "cat_boost = CatBoostRegressor(iterations=500, learning_rate=0.5,)\n",
        "cat_boost.fit(X_train, y_train)\n",
        "\n",
        "y_pred_train = cat_boost.predict(X_train)\n",
        "y_pred_test = cat_boost.predict(X_test)\n",
        "print(\"Prediction on training set \", 100*r2_score(y_train, y_pred_train))"
      ],
      "execution_count": 251,
      "outputs": [
        {
          "output_type": "stream",
          "text": [
            "Requirement already satisfied: catboost in /usr/local/lib/python3.7/dist-packages (0.25.1)\n",
            "Requirement already satisfied: graphviz in /usr/local/lib/python3.7/dist-packages (from catboost) (0.10.1)\n",
            "Requirement already satisfied: matplotlib in /usr/local/lib/python3.7/dist-packages (from catboost) (3.2.2)\n",
            "Requirement already satisfied: pandas>=0.24.0 in /usr/local/lib/python3.7/dist-packages (from catboost) (1.1.5)\n",
            "Requirement already satisfied: scipy in /usr/local/lib/python3.7/dist-packages (from catboost) (1.4.1)\n",
            "Requirement already satisfied: six in /usr/local/lib/python3.7/dist-packages (from catboost) (1.15.0)\n",
            "Requirement already satisfied: plotly in /usr/local/lib/python3.7/dist-packages (from catboost) (4.4.1)\n",
            "Requirement already satisfied: numpy>=1.16.0 in /usr/local/lib/python3.7/dist-packages (from catboost) (1.19.5)\n",
            "Requirement already satisfied: python-dateutil>=2.1 in /usr/local/lib/python3.7/dist-packages (from matplotlib->catboost) (2.8.1)\n",
            "Requirement already satisfied: pyparsing!=2.0.4,!=2.1.2,!=2.1.6,>=2.0.1 in /usr/local/lib/python3.7/dist-packages (from matplotlib->catboost) (2.4.7)\n",
            "Requirement already satisfied: kiwisolver>=1.0.1 in /usr/local/lib/python3.7/dist-packages (from matplotlib->catboost) (1.3.1)\n",
            "Requirement already satisfied: cycler>=0.10 in /usr/local/lib/python3.7/dist-packages (from matplotlib->catboost) (0.10.0)\n",
            "Requirement already satisfied: pytz>=2017.2 in /usr/local/lib/python3.7/dist-packages (from pandas>=0.24.0->catboost) (2018.9)\n",
            "Requirement already satisfied: retrying>=1.3.3 in /usr/local/lib/python3.7/dist-packages (from plotly->catboost) (1.3.3)\n",
            "0:\tlearn: 0.1264287\ttotal: 4.76ms\tremaining: 2.37s\n",
            "1:\tlearn: 0.0932897\ttotal: 8.45ms\tremaining: 2.1s\n",
            "2:\tlearn: 0.0764686\ttotal: 12.1ms\tremaining: 2s\n",
            "3:\tlearn: 0.0689364\ttotal: 15.7ms\tremaining: 1.95s\n",
            "4:\tlearn: 0.0656134\ttotal: 20ms\tremaining: 1.98s\n",
            "5:\tlearn: 0.0644145\ttotal: 23.8ms\tremaining: 1.96s\n",
            "6:\tlearn: 0.0635168\ttotal: 27.5ms\tremaining: 1.94s\n",
            "7:\tlearn: 0.0629951\ttotal: 30.9ms\tremaining: 1.9s\n",
            "8:\tlearn: 0.0625613\ttotal: 34.4ms\tremaining: 1.88s\n",
            "9:\tlearn: 0.0622598\ttotal: 38.3ms\tremaining: 1.88s\n",
            "10:\tlearn: 0.0619280\ttotal: 42ms\tremaining: 1.87s\n",
            "11:\tlearn: 0.0614942\ttotal: 45.9ms\tremaining: 1.87s\n",
            "12:\tlearn: 0.0612091\ttotal: 49.5ms\tremaining: 1.85s\n",
            "13:\tlearn: 0.0608426\ttotal: 53.1ms\tremaining: 1.84s\n",
            "14:\tlearn: 0.0607027\ttotal: 56.6ms\tremaining: 1.83s\n",
            "15:\tlearn: 0.0604990\ttotal: 60.3ms\tremaining: 1.82s\n",
            "16:\tlearn: 0.0603710\ttotal: 64.2ms\tremaining: 1.82s\n",
            "17:\tlearn: 0.0601402\ttotal: 67.7ms\tremaining: 1.81s\n",
            "18:\tlearn: 0.0599698\ttotal: 71.3ms\tremaining: 1.8s\n",
            "19:\tlearn: 0.0598862\ttotal: 75.3ms\tremaining: 1.81s\n",
            "20:\tlearn: 0.0598051\ttotal: 79.4ms\tremaining: 1.81s\n",
            "21:\tlearn: 0.0596554\ttotal: 83ms\tremaining: 1.8s\n",
            "22:\tlearn: 0.0595432\ttotal: 86.9ms\tremaining: 1.8s\n",
            "23:\tlearn: 0.0594657\ttotal: 90.8ms\tremaining: 1.8s\n",
            "24:\tlearn: 0.0593452\ttotal: 94.6ms\tremaining: 1.8s\n",
            "25:\tlearn: 0.0592582\ttotal: 98.5ms\tremaining: 1.8s\n",
            "26:\tlearn: 0.0591637\ttotal: 102ms\tremaining: 1.79s\n",
            "27:\tlearn: 0.0590635\ttotal: 106ms\tremaining: 1.79s\n",
            "28:\tlearn: 0.0590246\ttotal: 110ms\tremaining: 1.78s\n",
            "29:\tlearn: 0.0589840\ttotal: 113ms\tremaining: 1.77s\n",
            "30:\tlearn: 0.0589101\ttotal: 117ms\tremaining: 1.77s\n",
            "31:\tlearn: 0.0588368\ttotal: 120ms\tremaining: 1.76s\n",
            "32:\tlearn: 0.0587845\ttotal: 124ms\tremaining: 1.75s\n",
            "33:\tlearn: 0.0586210\ttotal: 128ms\tremaining: 1.75s\n",
            "34:\tlearn: 0.0585663\ttotal: 132ms\tremaining: 1.75s\n",
            "35:\tlearn: 0.0585067\ttotal: 135ms\tremaining: 1.75s\n",
            "36:\tlearn: 0.0584681\ttotal: 139ms\tremaining: 1.74s\n",
            "37:\tlearn: 0.0584029\ttotal: 143ms\tremaining: 1.73s\n",
            "38:\tlearn: 0.0583135\ttotal: 146ms\tremaining: 1.73s\n",
            "39:\tlearn: 0.0582791\ttotal: 150ms\tremaining: 1.73s\n",
            "40:\tlearn: 0.0582297\ttotal: 154ms\tremaining: 1.73s\n",
            "41:\tlearn: 0.0582118\ttotal: 158ms\tremaining: 1.72s\n",
            "42:\tlearn: 0.0581797\ttotal: 162ms\tremaining: 1.72s\n",
            "43:\tlearn: 0.0581254\ttotal: 166ms\tremaining: 1.72s\n",
            "44:\tlearn: 0.0580922\ttotal: 170ms\tremaining: 1.72s\n",
            "45:\tlearn: 0.0580623\ttotal: 174ms\tremaining: 1.71s\n",
            "46:\tlearn: 0.0580294\ttotal: 178ms\tremaining: 1.71s\n",
            "47:\tlearn: 0.0579602\ttotal: 183ms\tremaining: 1.72s\n",
            "48:\tlearn: 0.0579328\ttotal: 188ms\tremaining: 1.73s\n",
            "49:\tlearn: 0.0579048\ttotal: 192ms\tremaining: 1.73s\n",
            "50:\tlearn: 0.0578749\ttotal: 201ms\tremaining: 1.77s\n",
            "51:\tlearn: 0.0578494\ttotal: 205ms\tremaining: 1.76s\n",
            "52:\tlearn: 0.0578100\ttotal: 208ms\tremaining: 1.75s\n",
            "53:\tlearn: 0.0577717\ttotal: 212ms\tremaining: 1.75s\n",
            "54:\tlearn: 0.0577351\ttotal: 215ms\tremaining: 1.74s\n",
            "55:\tlearn: 0.0576956\ttotal: 219ms\tremaining: 1.74s\n",
            "56:\tlearn: 0.0576709\ttotal: 225ms\tremaining: 1.75s\n",
            "57:\tlearn: 0.0576542\ttotal: 229ms\tremaining: 1.75s\n",
            "58:\tlearn: 0.0576325\ttotal: 233ms\tremaining: 1.74s\n",
            "59:\tlearn: 0.0576116\ttotal: 236ms\tremaining: 1.73s\n",
            "60:\tlearn: 0.0575974\ttotal: 240ms\tremaining: 1.73s\n",
            "61:\tlearn: 0.0575771\ttotal: 244ms\tremaining: 1.72s\n",
            "62:\tlearn: 0.0575613\ttotal: 247ms\tremaining: 1.71s\n",
            "63:\tlearn: 0.0575308\ttotal: 251ms\tremaining: 1.71s\n",
            "64:\tlearn: 0.0574955\ttotal: 255ms\tremaining: 1.71s\n",
            "65:\tlearn: 0.0574738\ttotal: 259ms\tremaining: 1.7s\n",
            "66:\tlearn: 0.0574454\ttotal: 263ms\tremaining: 1.7s\n",
            "67:\tlearn: 0.0574200\ttotal: 266ms\tremaining: 1.69s\n",
            "68:\tlearn: 0.0574061\ttotal: 270ms\tremaining: 1.69s\n",
            "69:\tlearn: 0.0573808\ttotal: 275ms\tremaining: 1.69s\n",
            "70:\tlearn: 0.0573718\ttotal: 278ms\tremaining: 1.68s\n",
            "71:\tlearn: 0.0573527\ttotal: 282ms\tremaining: 1.68s\n",
            "72:\tlearn: 0.0573318\ttotal: 286ms\tremaining: 1.67s\n",
            "73:\tlearn: 0.0573250\ttotal: 290ms\tremaining: 1.67s\n",
            "74:\tlearn: 0.0573135\ttotal: 294ms\tremaining: 1.66s\n",
            "75:\tlearn: 0.0572914\ttotal: 298ms\tremaining: 1.66s\n",
            "76:\tlearn: 0.0572756\ttotal: 301ms\tremaining: 1.66s\n",
            "77:\tlearn: 0.0572635\ttotal: 305ms\tremaining: 1.65s\n",
            "78:\tlearn: 0.0572415\ttotal: 309ms\tremaining: 1.64s\n",
            "79:\tlearn: 0.0572240\ttotal: 314ms\tremaining: 1.65s\n",
            "80:\tlearn: 0.0572126\ttotal: 318ms\tremaining: 1.64s\n",
            "81:\tlearn: 0.0571996\ttotal: 325ms\tremaining: 1.66s\n",
            "82:\tlearn: 0.0571776\ttotal: 333ms\tremaining: 1.67s\n",
            "83:\tlearn: 0.0571656\ttotal: 339ms\tremaining: 1.68s\n",
            "84:\tlearn: 0.0571473\ttotal: 343ms\tremaining: 1.67s\n",
            "85:\tlearn: 0.0571150\ttotal: 347ms\tremaining: 1.67s\n",
            "86:\tlearn: 0.0570955\ttotal: 350ms\tremaining: 1.66s\n",
            "87:\tlearn: 0.0570757\ttotal: 354ms\tremaining: 1.66s\n",
            "88:\tlearn: 0.0570575\ttotal: 357ms\tremaining: 1.65s\n",
            "89:\tlearn: 0.0570369\ttotal: 361ms\tremaining: 1.64s\n",
            "90:\tlearn: 0.0570125\ttotal: 365ms\tremaining: 1.64s\n",
            "91:\tlearn: 0.0570031\ttotal: 369ms\tremaining: 1.63s\n",
            "92:\tlearn: 0.0569889\ttotal: 373ms\tremaining: 1.63s\n",
            "93:\tlearn: 0.0569746\ttotal: 381ms\tremaining: 1.65s\n",
            "94:\tlearn: 0.0569573\ttotal: 385ms\tremaining: 1.64s\n",
            "95:\tlearn: 0.0569449\ttotal: 388ms\tremaining: 1.63s\n",
            "96:\tlearn: 0.0569351\ttotal: 392ms\tremaining: 1.63s\n",
            "97:\tlearn: 0.0569039\ttotal: 396ms\tremaining: 1.62s\n",
            "98:\tlearn: 0.0568817\ttotal: 399ms\tremaining: 1.62s\n",
            "99:\tlearn: 0.0568696\ttotal: 403ms\tremaining: 1.61s\n",
            "100:\tlearn: 0.0568624\ttotal: 406ms\tremaining: 1.6s\n",
            "101:\tlearn: 0.0568424\ttotal: 410ms\tremaining: 1.6s\n",
            "102:\tlearn: 0.0568205\ttotal: 414ms\tremaining: 1.59s\n",
            "103:\tlearn: 0.0568115\ttotal: 417ms\tremaining: 1.59s\n",
            "104:\tlearn: 0.0567938\ttotal: 421ms\tremaining: 1.58s\n",
            "105:\tlearn: 0.0567883\ttotal: 425ms\tremaining: 1.58s\n",
            "106:\tlearn: 0.0567718\ttotal: 429ms\tremaining: 1.57s\n",
            "107:\tlearn: 0.0567529\ttotal: 433ms\tremaining: 1.57s\n",
            "108:\tlearn: 0.0567430\ttotal: 437ms\tremaining: 1.57s\n",
            "109:\tlearn: 0.0567319\ttotal: 441ms\tremaining: 1.56s\n",
            "110:\tlearn: 0.0567168\ttotal: 446ms\tremaining: 1.56s\n",
            "111:\tlearn: 0.0567064\ttotal: 450ms\tremaining: 1.56s\n",
            "112:\tlearn: 0.0566912\ttotal: 454ms\tremaining: 1.55s\n",
            "113:\tlearn: 0.0566832\ttotal: 458ms\tremaining: 1.55s\n",
            "114:\tlearn: 0.0566696\ttotal: 463ms\tremaining: 1.55s\n",
            "115:\tlearn: 0.0566652\ttotal: 467ms\tremaining: 1.54s\n",
            "116:\tlearn: 0.0566544\ttotal: 470ms\tremaining: 1.54s\n",
            "117:\tlearn: 0.0566508\ttotal: 474ms\tremaining: 1.53s\n",
            "118:\tlearn: 0.0566336\ttotal: 478ms\tremaining: 1.53s\n",
            "119:\tlearn: 0.0566250\ttotal: 482ms\tremaining: 1.52s\n",
            "120:\tlearn: 0.0566072\ttotal: 486ms\tremaining: 1.52s\n",
            "121:\tlearn: 0.0565994\ttotal: 489ms\tremaining: 1.51s\n",
            "122:\tlearn: 0.0565933\ttotal: 493ms\tremaining: 1.51s\n",
            "123:\tlearn: 0.0565707\ttotal: 497ms\tremaining: 1.51s\n",
            "124:\tlearn: 0.0565642\ttotal: 501ms\tremaining: 1.5s\n",
            "125:\tlearn: 0.0565509\ttotal: 505ms\tremaining: 1.5s\n",
            "126:\tlearn: 0.0565413\ttotal: 509ms\tremaining: 1.49s\n",
            "127:\tlearn: 0.0565230\ttotal: 512ms\tremaining: 1.49s\n",
            "128:\tlearn: 0.0565101\ttotal: 516ms\tremaining: 1.48s\n",
            "129:\tlearn: 0.0565002\ttotal: 520ms\tremaining: 1.48s\n",
            "130:\tlearn: 0.0564902\ttotal: 524ms\tremaining: 1.47s\n",
            "131:\tlearn: 0.0564856\ttotal: 527ms\tremaining: 1.47s\n",
            "132:\tlearn: 0.0564728\ttotal: 531ms\tremaining: 1.46s\n",
            "133:\tlearn: 0.0564676\ttotal: 534ms\tremaining: 1.46s\n",
            "134:\tlearn: 0.0564607\ttotal: 538ms\tremaining: 1.45s\n",
            "135:\tlearn: 0.0564469\ttotal: 542ms\tremaining: 1.45s\n",
            "136:\tlearn: 0.0564400\ttotal: 546ms\tremaining: 1.45s\n",
            "137:\tlearn: 0.0564246\ttotal: 550ms\tremaining: 1.44s\n",
            "138:\tlearn: 0.0564085\ttotal: 554ms\tremaining: 1.44s\n",
            "139:\tlearn: 0.0564022\ttotal: 557ms\tremaining: 1.43s\n",
            "140:\tlearn: 0.0563936\ttotal: 561ms\tremaining: 1.43s\n",
            "141:\tlearn: 0.0563734\ttotal: 568ms\tremaining: 1.43s\n",
            "142:\tlearn: 0.0563704\ttotal: 572ms\tremaining: 1.43s\n",
            "143:\tlearn: 0.0563626\ttotal: 576ms\tremaining: 1.42s\n",
            "144:\tlearn: 0.0563351\ttotal: 580ms\tremaining: 1.42s\n",
            "145:\tlearn: 0.0563297\ttotal: 584ms\tremaining: 1.42s\n",
            "146:\tlearn: 0.0563242\ttotal: 588ms\tremaining: 1.41s\n",
            "147:\tlearn: 0.0563131\ttotal: 597ms\tremaining: 1.42s\n",
            "148:\tlearn: 0.0563078\ttotal: 608ms\tremaining: 1.43s\n",
            "149:\tlearn: 0.0562968\ttotal: 615ms\tremaining: 1.43s\n",
            "150:\tlearn: 0.0562870\ttotal: 618ms\tremaining: 1.43s\n",
            "151:\tlearn: 0.0562808\ttotal: 622ms\tremaining: 1.42s\n",
            "152:\tlearn: 0.0562752\ttotal: 625ms\tremaining: 1.42s\n",
            "153:\tlearn: 0.0562599\ttotal: 629ms\tremaining: 1.41s\n",
            "154:\tlearn: 0.0562504\ttotal: 633ms\tremaining: 1.41s\n",
            "155:\tlearn: 0.0562424\ttotal: 636ms\tremaining: 1.4s\n",
            "156:\tlearn: 0.0562368\ttotal: 640ms\tremaining: 1.4s\n",
            "157:\tlearn: 0.0562336\ttotal: 643ms\tremaining: 1.39s\n",
            "158:\tlearn: 0.0562168\ttotal: 647ms\tremaining: 1.39s\n",
            "159:\tlearn: 0.0562012\ttotal: 651ms\tremaining: 1.38s\n",
            "160:\tlearn: 0.0561910\ttotal: 654ms\tremaining: 1.38s\n",
            "161:\tlearn: 0.0561796\ttotal: 658ms\tremaining: 1.37s\n",
            "162:\tlearn: 0.0561638\ttotal: 662ms\tremaining: 1.37s\n",
            "163:\tlearn: 0.0561575\ttotal: 665ms\tremaining: 1.36s\n",
            "164:\tlearn: 0.0561525\ttotal: 669ms\tremaining: 1.36s\n",
            "165:\tlearn: 0.0561461\ttotal: 672ms\tremaining: 1.35s\n",
            "166:\tlearn: 0.0561352\ttotal: 676ms\tremaining: 1.35s\n",
            "167:\tlearn: 0.0561304\ttotal: 680ms\tremaining: 1.34s\n",
            "168:\tlearn: 0.0561246\ttotal: 684ms\tremaining: 1.34s\n",
            "169:\tlearn: 0.0561188\ttotal: 688ms\tremaining: 1.33s\n",
            "170:\tlearn: 0.0561039\ttotal: 692ms\tremaining: 1.33s\n",
            "171:\tlearn: 0.0560958\ttotal: 696ms\tremaining: 1.33s\n",
            "172:\tlearn: 0.0560848\ttotal: 700ms\tremaining: 1.32s\n",
            "173:\tlearn: 0.0560686\ttotal: 704ms\tremaining: 1.32s\n",
            "174:\tlearn: 0.0560629\ttotal: 708ms\tremaining: 1.31s\n",
            "175:\tlearn: 0.0560528\ttotal: 712ms\tremaining: 1.31s\n",
            "176:\tlearn: 0.0560423\ttotal: 715ms\tremaining: 1.3s\n",
            "177:\tlearn: 0.0560374\ttotal: 718ms\tremaining: 1.3s\n",
            "178:\tlearn: 0.0560300\ttotal: 722ms\tremaining: 1.29s\n",
            "179:\tlearn: 0.0560201\ttotal: 726ms\tremaining: 1.29s\n",
            "180:\tlearn: 0.0560154\ttotal: 731ms\tremaining: 1.29s\n",
            "181:\tlearn: 0.0560042\ttotal: 735ms\tremaining: 1.28s\n",
            "182:\tlearn: 0.0559980\ttotal: 740ms\tremaining: 1.28s\n",
            "183:\tlearn: 0.0559937\ttotal: 744ms\tremaining: 1.28s\n",
            "184:\tlearn: 0.0559819\ttotal: 747ms\tremaining: 1.27s\n",
            "185:\tlearn: 0.0559769\ttotal: 751ms\tremaining: 1.27s\n",
            "186:\tlearn: 0.0559695\ttotal: 761ms\tremaining: 1.27s\n",
            "187:\tlearn: 0.0559603\ttotal: 765ms\tremaining: 1.27s\n",
            "188:\tlearn: 0.0559581\ttotal: 771ms\tremaining: 1.27s\n",
            "189:\tlearn: 0.0559501\ttotal: 775ms\tremaining: 1.26s\n",
            "190:\tlearn: 0.0559449\ttotal: 779ms\tremaining: 1.26s\n",
            "191:\tlearn: 0.0559435\ttotal: 782ms\tremaining: 1.25s\n",
            "192:\tlearn: 0.0559338\ttotal: 785ms\tremaining: 1.25s\n",
            "193:\tlearn: 0.0559286\ttotal: 789ms\tremaining: 1.24s\n",
            "194:\tlearn: 0.0559162\ttotal: 792ms\tremaining: 1.24s\n",
            "195:\tlearn: 0.0559036\ttotal: 796ms\tremaining: 1.23s\n",
            "196:\tlearn: 0.0558920\ttotal: 800ms\tremaining: 1.23s\n",
            "197:\tlearn: 0.0558890\ttotal: 803ms\tremaining: 1.23s\n",
            "198:\tlearn: 0.0558815\ttotal: 807ms\tremaining: 1.22s\n",
            "199:\tlearn: 0.0558775\ttotal: 812ms\tremaining: 1.22s\n",
            "200:\tlearn: 0.0558673\ttotal: 815ms\tremaining: 1.21s\n",
            "201:\tlearn: 0.0558651\ttotal: 819ms\tremaining: 1.21s\n",
            "202:\tlearn: 0.0558540\ttotal: 822ms\tremaining: 1.2s\n",
            "203:\tlearn: 0.0558434\ttotal: 826ms\tremaining: 1.2s\n",
            "204:\tlearn: 0.0558335\ttotal: 829ms\tremaining: 1.19s\n",
            "205:\tlearn: 0.0558306\ttotal: 833ms\tremaining: 1.19s\n",
            "206:\tlearn: 0.0558289\ttotal: 837ms\tremaining: 1.18s\n",
            "207:\tlearn: 0.0558212\ttotal: 841ms\tremaining: 1.18s\n",
            "208:\tlearn: 0.0558203\ttotal: 844ms\tremaining: 1.18s\n",
            "209:\tlearn: 0.0558179\ttotal: 848ms\tremaining: 1.17s\n",
            "210:\tlearn: 0.0558107\ttotal: 852ms\tremaining: 1.17s\n",
            "211:\tlearn: 0.0558009\ttotal: 856ms\tremaining: 1.16s\n",
            "212:\tlearn: 0.0557969\ttotal: 860ms\tremaining: 1.16s\n",
            "213:\tlearn: 0.0557857\ttotal: 863ms\tremaining: 1.15s\n",
            "214:\tlearn: 0.0557815\ttotal: 867ms\tremaining: 1.15s\n",
            "215:\tlearn: 0.0557748\ttotal: 871ms\tremaining: 1.15s\n",
            "216:\tlearn: 0.0557640\ttotal: 875ms\tremaining: 1.14s\n",
            "217:\tlearn: 0.0557581\ttotal: 879ms\tremaining: 1.14s\n",
            "218:\tlearn: 0.0557458\ttotal: 883ms\tremaining: 1.13s\n",
            "219:\tlearn: 0.0557407\ttotal: 886ms\tremaining: 1.13s\n",
            "220:\tlearn: 0.0557351\ttotal: 890ms\tremaining: 1.12s\n",
            "221:\tlearn: 0.0557261\ttotal: 894ms\tremaining: 1.12s\n",
            "222:\tlearn: 0.0557228\ttotal: 898ms\tremaining: 1.11s\n",
            "223:\tlearn: 0.0557147\ttotal: 902ms\tremaining: 1.11s\n",
            "224:\tlearn: 0.0557012\ttotal: 906ms\tremaining: 1.11s\n",
            "225:\tlearn: 0.0556978\ttotal: 909ms\tremaining: 1.1s\n",
            "226:\tlearn: 0.0556920\ttotal: 913ms\tremaining: 1.1s\n",
            "227:\tlearn: 0.0556856\ttotal: 916ms\tremaining: 1.09s\n",
            "228:\tlearn: 0.0556832\ttotal: 920ms\tremaining: 1.09s\n",
            "229:\tlearn: 0.0556785\ttotal: 923ms\tremaining: 1.08s\n",
            "230:\tlearn: 0.0556716\ttotal: 927ms\tremaining: 1.08s\n",
            "231:\tlearn: 0.0556675\ttotal: 930ms\tremaining: 1.07s\n",
            "232:\tlearn: 0.0556582\ttotal: 934ms\tremaining: 1.07s\n",
            "233:\tlearn: 0.0556555\ttotal: 938ms\tremaining: 1.06s\n",
            "234:\tlearn: 0.0556493\ttotal: 944ms\tremaining: 1.06s\n",
            "235:\tlearn: 0.0556416\ttotal: 952ms\tremaining: 1.06s\n",
            "236:\tlearn: 0.0556350\ttotal: 956ms\tremaining: 1.06s\n",
            "237:\tlearn: 0.0556252\ttotal: 959ms\tremaining: 1.05s\n",
            "238:\tlearn: 0.0556210\ttotal: 963ms\tremaining: 1.05s\n",
            "239:\tlearn: 0.0556159\ttotal: 966ms\tremaining: 1.05s\n",
            "240:\tlearn: 0.0556080\ttotal: 972ms\tremaining: 1.04s\n",
            "241:\tlearn: 0.0555985\ttotal: 982ms\tremaining: 1.05s\n",
            "242:\tlearn: 0.0555930\ttotal: 986ms\tremaining: 1.04s\n",
            "243:\tlearn: 0.0555809\ttotal: 990ms\tremaining: 1.04s\n",
            "244:\tlearn: 0.0555771\ttotal: 993ms\tremaining: 1.03s\n",
            "245:\tlearn: 0.0555748\ttotal: 997ms\tremaining: 1.03s\n",
            "246:\tlearn: 0.0555602\ttotal: 1s\tremaining: 1.02s\n",
            "247:\tlearn: 0.0555573\ttotal: 1.01s\tremaining: 1.03s\n",
            "248:\tlearn: 0.0555498\ttotal: 1.02s\tremaining: 1.02s\n",
            "249:\tlearn: 0.0555388\ttotal: 1.02s\tremaining: 1.02s\n",
            "250:\tlearn: 0.0555296\ttotal: 1.02s\tremaining: 1.02s\n",
            "251:\tlearn: 0.0555246\ttotal: 1.03s\tremaining: 1.01s\n",
            "252:\tlearn: 0.0555182\ttotal: 1.03s\tremaining: 1.01s\n",
            "253:\tlearn: 0.0555092\ttotal: 1.04s\tremaining: 1s\n",
            "254:\tlearn: 0.0554981\ttotal: 1.04s\tremaining: 1000ms\n",
            "255:\tlearn: 0.0554915\ttotal: 1.04s\tremaining: 995ms\n",
            "256:\tlearn: 0.0554899\ttotal: 1.05s\tremaining: 991ms\n",
            "257:\tlearn: 0.0554860\ttotal: 1.05s\tremaining: 986ms\n",
            "258:\tlearn: 0.0554743\ttotal: 1.05s\tremaining: 982ms\n",
            "259:\tlearn: 0.0554705\ttotal: 1.06s\tremaining: 977ms\n",
            "260:\tlearn: 0.0554647\ttotal: 1.06s\tremaining: 973ms\n",
            "261:\tlearn: 0.0554634\ttotal: 1.07s\tremaining: 968ms\n",
            "262:\tlearn: 0.0554589\ttotal: 1.07s\tremaining: 964ms\n",
            "263:\tlearn: 0.0554528\ttotal: 1.07s\tremaining: 960ms\n",
            "264:\tlearn: 0.0554504\ttotal: 1.08s\tremaining: 956ms\n",
            "265:\tlearn: 0.0554438\ttotal: 1.08s\tremaining: 952ms\n",
            "266:\tlearn: 0.0554389\ttotal: 1.09s\tremaining: 948ms\n",
            "267:\tlearn: 0.0554334\ttotal: 1.09s\tremaining: 944ms\n",
            "268:\tlearn: 0.0554219\ttotal: 1.09s\tremaining: 940ms\n",
            "269:\tlearn: 0.0554188\ttotal: 1.1s\tremaining: 935ms\n",
            "270:\tlearn: 0.0554150\ttotal: 1.1s\tremaining: 931ms\n",
            "271:\tlearn: 0.0554122\ttotal: 1.1s\tremaining: 926ms\n",
            "272:\tlearn: 0.0554078\ttotal: 1.11s\tremaining: 922ms\n",
            "273:\tlearn: 0.0554048\ttotal: 1.11s\tremaining: 918ms\n",
            "274:\tlearn: 0.0553999\ttotal: 1.12s\tremaining: 913ms\n",
            "275:\tlearn: 0.0553920\ttotal: 1.12s\tremaining: 909ms\n",
            "276:\tlearn: 0.0553829\ttotal: 1.12s\tremaining: 905ms\n",
            "277:\tlearn: 0.0553736\ttotal: 1.13s\tremaining: 900ms\n",
            "278:\tlearn: 0.0553707\ttotal: 1.13s\tremaining: 896ms\n",
            "279:\tlearn: 0.0553686\ttotal: 1.14s\tremaining: 895ms\n",
            "280:\tlearn: 0.0553664\ttotal: 1.14s\tremaining: 891ms\n",
            "281:\tlearn: 0.0553584\ttotal: 1.15s\tremaining: 888ms\n",
            "282:\tlearn: 0.0553525\ttotal: 1.15s\tremaining: 884ms\n",
            "283:\tlearn: 0.0553511\ttotal: 1.16s\tremaining: 879ms\n",
            "284:\tlearn: 0.0553473\ttotal: 1.16s\tremaining: 875ms\n",
            "285:\tlearn: 0.0553397\ttotal: 1.16s\tremaining: 871ms\n",
            "286:\tlearn: 0.0553357\ttotal: 1.17s\tremaining: 866ms\n",
            "287:\tlearn: 0.0553337\ttotal: 1.17s\tremaining: 862ms\n",
            "288:\tlearn: 0.0553274\ttotal: 1.17s\tremaining: 858ms\n",
            "289:\tlearn: 0.0553228\ttotal: 1.18s\tremaining: 853ms\n",
            "290:\tlearn: 0.0553139\ttotal: 1.18s\tremaining: 849ms\n",
            "291:\tlearn: 0.0553094\ttotal: 1.19s\tremaining: 845ms\n",
            "292:\tlearn: 0.0553043\ttotal: 1.19s\tremaining: 841ms\n",
            "293:\tlearn: 0.0552956\ttotal: 1.19s\tremaining: 836ms\n",
            "294:\tlearn: 0.0552873\ttotal: 1.2s\tremaining: 832ms\n",
            "295:\tlearn: 0.0552843\ttotal: 1.2s\tremaining: 828ms\n",
            "296:\tlearn: 0.0552817\ttotal: 1.21s\tremaining: 824ms\n",
            "297:\tlearn: 0.0552758\ttotal: 1.21s\tremaining: 820ms\n",
            "298:\tlearn: 0.0552723\ttotal: 1.21s\tremaining: 816ms\n",
            "299:\tlearn: 0.0552700\ttotal: 1.22s\tremaining: 811ms\n",
            "300:\tlearn: 0.0552653\ttotal: 1.22s\tremaining: 807ms\n",
            "301:\tlearn: 0.0552609\ttotal: 1.22s\tremaining: 803ms\n",
            "302:\tlearn: 0.0552555\ttotal: 1.23s\tremaining: 799ms\n",
            "303:\tlearn: 0.0552447\ttotal: 1.23s\tremaining: 794ms\n",
            "304:\tlearn: 0.0552414\ttotal: 1.24s\tremaining: 790ms\n",
            "305:\tlearn: 0.0552358\ttotal: 1.24s\tremaining: 787ms\n",
            "306:\tlearn: 0.0552328\ttotal: 1.25s\tremaining: 783ms\n",
            "307:\tlearn: 0.0552295\ttotal: 1.25s\tremaining: 779ms\n",
            "308:\tlearn: 0.0552243\ttotal: 1.25s\tremaining: 775ms\n",
            "309:\tlearn: 0.0552238\ttotal: 1.26s\tremaining: 773ms\n",
            "310:\tlearn: 0.0552220\ttotal: 1.27s\tremaining: 773ms\n",
            "311:\tlearn: 0.0552153\ttotal: 1.27s\tremaining: 768ms\n",
            "312:\tlearn: 0.0552141\ttotal: 1.28s\tremaining: 764ms\n",
            "313:\tlearn: 0.0552078\ttotal: 1.28s\tremaining: 760ms\n",
            "314:\tlearn: 0.0552024\ttotal: 1.29s\tremaining: 757ms\n",
            "315:\tlearn: 0.0551955\ttotal: 1.29s\tremaining: 753ms\n",
            "316:\tlearn: 0.0551885\ttotal: 1.3s\tremaining: 748ms\n",
            "317:\tlearn: 0.0551829\ttotal: 1.3s\tremaining: 744ms\n",
            "318:\tlearn: 0.0551762\ttotal: 1.3s\tremaining: 740ms\n",
            "319:\tlearn: 0.0551755\ttotal: 1.31s\tremaining: 735ms\n",
            "320:\tlearn: 0.0551706\ttotal: 1.31s\tremaining: 731ms\n",
            "321:\tlearn: 0.0551682\ttotal: 1.31s\tremaining: 727ms\n",
            "322:\tlearn: 0.0551589\ttotal: 1.32s\tremaining: 722ms\n",
            "323:\tlearn: 0.0551502\ttotal: 1.32s\tremaining: 718ms\n",
            "324:\tlearn: 0.0551466\ttotal: 1.33s\tremaining: 719ms\n",
            "325:\tlearn: 0.0551400\ttotal: 1.34s\tremaining: 715ms\n",
            "326:\tlearn: 0.0551345\ttotal: 1.34s\tremaining: 711ms\n",
            "327:\tlearn: 0.0551310\ttotal: 1.35s\tremaining: 706ms\n",
            "328:\tlearn: 0.0551274\ttotal: 1.35s\tremaining: 702ms\n",
            "329:\tlearn: 0.0551232\ttotal: 1.35s\tremaining: 697ms\n",
            "330:\tlearn: 0.0551160\ttotal: 1.36s\tremaining: 693ms\n",
            "331:\tlearn: 0.0551145\ttotal: 1.36s\tremaining: 688ms\n",
            "332:\tlearn: 0.0551088\ttotal: 1.36s\tremaining: 684ms\n",
            "333:\tlearn: 0.0551074\ttotal: 1.37s\tremaining: 680ms\n",
            "334:\tlearn: 0.0550996\ttotal: 1.37s\tremaining: 676ms\n",
            "335:\tlearn: 0.0550937\ttotal: 1.38s\tremaining: 671ms\n",
            "336:\tlearn: 0.0550883\ttotal: 1.38s\tremaining: 667ms\n",
            "337:\tlearn: 0.0550863\ttotal: 1.38s\tremaining: 663ms\n",
            "338:\tlearn: 0.0550780\ttotal: 1.39s\tremaining: 658ms\n",
            "339:\tlearn: 0.0550768\ttotal: 1.39s\tremaining: 654ms\n",
            "340:\tlearn: 0.0550710\ttotal: 1.39s\tremaining: 650ms\n",
            "341:\tlearn: 0.0550694\ttotal: 1.4s\tremaining: 645ms\n",
            "342:\tlearn: 0.0550682\ttotal: 1.4s\tremaining: 641ms\n",
            "343:\tlearn: 0.0550660\ttotal: 1.4s\tremaining: 637ms\n",
            "344:\tlearn: 0.0550520\ttotal: 1.41s\tremaining: 633ms\n",
            "345:\tlearn: 0.0550499\ttotal: 1.41s\tremaining: 628ms\n",
            "346:\tlearn: 0.0550442\ttotal: 1.42s\tremaining: 624ms\n",
            "347:\tlearn: 0.0550402\ttotal: 1.42s\tremaining: 620ms\n",
            "348:\tlearn: 0.0550379\ttotal: 1.42s\tremaining: 616ms\n",
            "349:\tlearn: 0.0550355\ttotal: 1.43s\tremaining: 612ms\n",
            "350:\tlearn: 0.0550316\ttotal: 1.43s\tremaining: 607ms\n",
            "351:\tlearn: 0.0550241\ttotal: 1.43s\tremaining: 603ms\n",
            "352:\tlearn: 0.0550222\ttotal: 1.44s\tremaining: 599ms\n",
            "353:\tlearn: 0.0550203\ttotal: 1.44s\tremaining: 594ms\n",
            "354:\tlearn: 0.0550169\ttotal: 1.44s\tremaining: 590ms\n",
            "355:\tlearn: 0.0550066\ttotal: 1.45s\tremaining: 586ms\n",
            "356:\tlearn: 0.0550049\ttotal: 1.45s\tremaining: 582ms\n",
            "357:\tlearn: 0.0549940\ttotal: 1.46s\tremaining: 578ms\n",
            "358:\tlearn: 0.0549868\ttotal: 1.46s\tremaining: 573ms\n",
            "359:\tlearn: 0.0549857\ttotal: 1.46s\tremaining: 569ms\n",
            "360:\tlearn: 0.0549821\ttotal: 1.47s\tremaining: 565ms\n",
            "361:\tlearn: 0.0549723\ttotal: 1.47s\tremaining: 562ms\n",
            "362:\tlearn: 0.0549661\ttotal: 1.48s\tremaining: 558ms\n",
            "363:\tlearn: 0.0549621\ttotal: 1.48s\tremaining: 553ms\n",
            "364:\tlearn: 0.0549567\ttotal: 1.49s\tremaining: 549ms\n",
            "365:\tlearn: 0.0549546\ttotal: 1.49s\tremaining: 545ms\n",
            "366:\tlearn: 0.0549494\ttotal: 1.49s\tremaining: 541ms\n",
            "367:\tlearn: 0.0549458\ttotal: 1.5s\tremaining: 537ms\n",
            "368:\tlearn: 0.0549437\ttotal: 1.5s\tremaining: 532ms\n",
            "369:\tlearn: 0.0549392\ttotal: 1.5s\tremaining: 529ms\n",
            "370:\tlearn: 0.0549375\ttotal: 1.51s\tremaining: 524ms\n",
            "371:\tlearn: 0.0549345\ttotal: 1.51s\tremaining: 520ms\n",
            "372:\tlearn: 0.0549322\ttotal: 1.51s\tremaining: 516ms\n",
            "373:\tlearn: 0.0549281\ttotal: 1.52s\tremaining: 512ms\n",
            "374:\tlearn: 0.0549122\ttotal: 1.52s\tremaining: 509ms\n",
            "375:\tlearn: 0.0549114\ttotal: 1.53s\tremaining: 505ms\n",
            "376:\tlearn: 0.0549082\ttotal: 1.54s\tremaining: 502ms\n",
            "377:\tlearn: 0.0549063\ttotal: 1.54s\tremaining: 498ms\n",
            "378:\tlearn: 0.0549020\ttotal: 1.54s\tremaining: 493ms\n",
            "379:\tlearn: 0.0548991\ttotal: 1.55s\tremaining: 489ms\n",
            "380:\tlearn: 0.0548981\ttotal: 1.55s\tremaining: 485ms\n",
            "381:\tlearn: 0.0548965\ttotal: 1.56s\tremaining: 481ms\n",
            "382:\tlearn: 0.0548886\ttotal: 1.56s\tremaining: 477ms\n",
            "383:\tlearn: 0.0548854\ttotal: 1.56s\tremaining: 473ms\n",
            "384:\tlearn: 0.0548826\ttotal: 1.57s\tremaining: 469ms\n",
            "385:\tlearn: 0.0548791\ttotal: 1.57s\tremaining: 464ms\n",
            "386:\tlearn: 0.0548783\ttotal: 1.58s\tremaining: 461ms\n",
            "387:\tlearn: 0.0548716\ttotal: 1.58s\tremaining: 457ms\n",
            "388:\tlearn: 0.0548697\ttotal: 1.59s\tremaining: 453ms\n",
            "389:\tlearn: 0.0548681\ttotal: 1.59s\tremaining: 449ms\n",
            "390:\tlearn: 0.0548668\ttotal: 1.59s\tremaining: 444ms\n",
            "391:\tlearn: 0.0548627\ttotal: 1.6s\tremaining: 440ms\n",
            "392:\tlearn: 0.0548611\ttotal: 1.6s\tremaining: 436ms\n",
            "393:\tlearn: 0.0548598\ttotal: 1.6s\tremaining: 432ms\n",
            "394:\tlearn: 0.0548568\ttotal: 1.61s\tremaining: 427ms\n",
            "395:\tlearn: 0.0548537\ttotal: 1.61s\tremaining: 423ms\n",
            "396:\tlearn: 0.0548472\ttotal: 1.61s\tremaining: 419ms\n",
            "397:\tlearn: 0.0548447\ttotal: 1.62s\tremaining: 415ms\n",
            "398:\tlearn: 0.0548430\ttotal: 1.62s\tremaining: 411ms\n",
            "399:\tlearn: 0.0548394\ttotal: 1.63s\tremaining: 406ms\n",
            "400:\tlearn: 0.0548334\ttotal: 1.63s\tremaining: 402ms\n",
            "401:\tlearn: 0.0548309\ttotal: 1.63s\tremaining: 398ms\n",
            "402:\tlearn: 0.0548252\ttotal: 1.64s\tremaining: 394ms\n",
            "403:\tlearn: 0.0548247\ttotal: 1.64s\tremaining: 390ms\n",
            "404:\tlearn: 0.0548237\ttotal: 1.64s\tremaining: 386ms\n",
            "405:\tlearn: 0.0548228\ttotal: 1.65s\tremaining: 381ms\n",
            "406:\tlearn: 0.0548220\ttotal: 1.65s\tremaining: 377ms\n",
            "407:\tlearn: 0.0548202\ttotal: 1.65s\tremaining: 373ms\n",
            "408:\tlearn: 0.0548180\ttotal: 1.66s\tremaining: 369ms\n",
            "409:\tlearn: 0.0548165\ttotal: 1.66s\tremaining: 365ms\n",
            "410:\tlearn: 0.0548125\ttotal: 1.67s\tremaining: 361ms\n",
            "411:\tlearn: 0.0548114\ttotal: 1.67s\tremaining: 357ms\n",
            "412:\tlearn: 0.0548082\ttotal: 1.67s\tremaining: 352ms\n",
            "413:\tlearn: 0.0548080\ttotal: 1.68s\tremaining: 348ms\n",
            "414:\tlearn: 0.0548059\ttotal: 1.68s\tremaining: 344ms\n",
            "415:\tlearn: 0.0548052\ttotal: 1.68s\tremaining: 340ms\n",
            "416:\tlearn: 0.0548034\ttotal: 1.69s\tremaining: 336ms\n",
            "417:\tlearn: 0.0548017\ttotal: 1.69s\tremaining: 332ms\n",
            "418:\tlearn: 0.0547990\ttotal: 1.7s\tremaining: 328ms\n",
            "419:\tlearn: 0.0547938\ttotal: 1.7s\tremaining: 324ms\n",
            "420:\tlearn: 0.0547929\ttotal: 1.7s\tremaining: 319ms\n",
            "421:\tlearn: 0.0547888\ttotal: 1.71s\tremaining: 315ms\n",
            "422:\tlearn: 0.0547861\ttotal: 1.71s\tremaining: 311ms\n",
            "423:\tlearn: 0.0547847\ttotal: 1.71s\tremaining: 307ms\n",
            "424:\tlearn: 0.0547750\ttotal: 1.72s\tremaining: 304ms\n",
            "425:\tlearn: 0.0547714\ttotal: 1.73s\tremaining: 300ms\n",
            "426:\tlearn: 0.0547692\ttotal: 1.73s\tremaining: 296ms\n",
            "427:\tlearn: 0.0547672\ttotal: 1.73s\tremaining: 292ms\n",
            "428:\tlearn: 0.0547650\ttotal: 1.74s\tremaining: 287ms\n",
            "429:\tlearn: 0.0547572\ttotal: 1.74s\tremaining: 283ms\n",
            "430:\tlearn: 0.0547551\ttotal: 1.74s\tremaining: 279ms\n",
            "431:\tlearn: 0.0547529\ttotal: 1.75s\tremaining: 275ms\n",
            "432:\tlearn: 0.0547483\ttotal: 1.75s\tremaining: 271ms\n",
            "433:\tlearn: 0.0547449\ttotal: 1.75s\tremaining: 267ms\n",
            "434:\tlearn: 0.0547416\ttotal: 1.76s\tremaining: 263ms\n",
            "435:\tlearn: 0.0547363\ttotal: 1.76s\tremaining: 259ms\n",
            "436:\tlearn: 0.0547287\ttotal: 1.76s\tremaining: 254ms\n",
            "437:\tlearn: 0.0547250\ttotal: 1.77s\tremaining: 250ms\n",
            "438:\tlearn: 0.0547239\ttotal: 1.77s\tremaining: 246ms\n",
            "439:\tlearn: 0.0547190\ttotal: 1.77s\tremaining: 242ms\n",
            "440:\tlearn: 0.0547183\ttotal: 1.78s\tremaining: 238ms\n",
            "441:\tlearn: 0.0547096\ttotal: 1.78s\tremaining: 234ms\n",
            "442:\tlearn: 0.0547084\ttotal: 1.78s\tremaining: 230ms\n",
            "443:\tlearn: 0.0547049\ttotal: 1.79s\tremaining: 226ms\n",
            "444:\tlearn: 0.0547024\ttotal: 1.79s\tremaining: 222ms\n",
            "445:\tlearn: 0.0546944\ttotal: 1.8s\tremaining: 218ms\n",
            "446:\tlearn: 0.0546910\ttotal: 1.8s\tremaining: 214ms\n",
            "447:\tlearn: 0.0546864\ttotal: 1.81s\tremaining: 210ms\n",
            "448:\tlearn: 0.0546795\ttotal: 1.81s\tremaining: 206ms\n",
            "449:\tlearn: 0.0546786\ttotal: 1.82s\tremaining: 202ms\n",
            "450:\tlearn: 0.0546750\ttotal: 1.82s\tremaining: 198ms\n",
            "451:\tlearn: 0.0546748\ttotal: 1.82s\tremaining: 194ms\n",
            "452:\tlearn: 0.0546694\ttotal: 1.83s\tremaining: 190ms\n",
            "453:\tlearn: 0.0546684\ttotal: 1.83s\tremaining: 185ms\n",
            "454:\tlearn: 0.0546674\ttotal: 1.83s\tremaining: 181ms\n",
            "455:\tlearn: 0.0546663\ttotal: 1.84s\tremaining: 177ms\n",
            "456:\tlearn: 0.0546588\ttotal: 1.84s\tremaining: 173ms\n",
            "457:\tlearn: 0.0546553\ttotal: 1.84s\tremaining: 169ms\n",
            "458:\tlearn: 0.0546527\ttotal: 1.85s\tremaining: 165ms\n",
            "459:\tlearn: 0.0546444\ttotal: 1.85s\tremaining: 161ms\n",
            "460:\tlearn: 0.0546433\ttotal: 1.86s\tremaining: 157ms\n",
            "461:\tlearn: 0.0546407\ttotal: 1.86s\tremaining: 153ms\n",
            "462:\tlearn: 0.0546371\ttotal: 1.86s\tremaining: 149ms\n",
            "463:\tlearn: 0.0546343\ttotal: 1.87s\tremaining: 145ms\n",
            "464:\tlearn: 0.0546270\ttotal: 1.87s\tremaining: 141ms\n",
            "465:\tlearn: 0.0546251\ttotal: 1.87s\tremaining: 137ms\n",
            "466:\tlearn: 0.0546238\ttotal: 1.88s\tremaining: 133ms\n",
            "467:\tlearn: 0.0546203\ttotal: 1.88s\tremaining: 129ms\n",
            "468:\tlearn: 0.0546178\ttotal: 1.88s\tremaining: 125ms\n",
            "469:\tlearn: 0.0546150\ttotal: 1.89s\tremaining: 121ms\n",
            "470:\tlearn: 0.0546137\ttotal: 1.89s\tremaining: 116ms\n",
            "471:\tlearn: 0.0546132\ttotal: 1.9s\tremaining: 112ms\n",
            "472:\tlearn: 0.0546119\ttotal: 1.9s\tremaining: 108ms\n",
            "473:\tlearn: 0.0546073\ttotal: 1.91s\tremaining: 105ms\n",
            "474:\tlearn: 0.0546064\ttotal: 1.91s\tremaining: 101ms\n",
            "475:\tlearn: 0.0546001\ttotal: 1.91s\tremaining: 96.5ms\n",
            "476:\tlearn: 0.0545960\ttotal: 1.92s\tremaining: 92.4ms\n",
            "477:\tlearn: 0.0545940\ttotal: 1.92s\tremaining: 88.4ms\n",
            "478:\tlearn: 0.0545922\ttotal: 1.92s\tremaining: 84.4ms\n",
            "479:\tlearn: 0.0545891\ttotal: 1.93s\tremaining: 80.3ms\n",
            "480:\tlearn: 0.0545861\ttotal: 1.93s\tremaining: 76.3ms\n",
            "481:\tlearn: 0.0545811\ttotal: 1.94s\tremaining: 72.3ms\n",
            "482:\tlearn: 0.0545762\ttotal: 1.94s\tremaining: 68.3ms\n",
            "483:\tlearn: 0.0545718\ttotal: 1.94s\tremaining: 64.3ms\n",
            "484:\tlearn: 0.0545694\ttotal: 1.95s\tremaining: 60.3ms\n",
            "485:\tlearn: 0.0545684\ttotal: 1.95s\tremaining: 56.2ms\n",
            "486:\tlearn: 0.0545672\ttotal: 1.96s\tremaining: 52.2ms\n",
            "487:\tlearn: 0.0545652\ttotal: 1.96s\tremaining: 48.2ms\n",
            "488:\tlearn: 0.0545619\ttotal: 1.96s\tremaining: 44.2ms\n",
            "489:\tlearn: 0.0545603\ttotal: 1.97s\tremaining: 40.1ms\n",
            "490:\tlearn: 0.0545547\ttotal: 1.97s\tremaining: 36.1ms\n",
            "491:\tlearn: 0.0545511\ttotal: 1.97s\tremaining: 32.1ms\n",
            "492:\tlearn: 0.0545498\ttotal: 1.98s\tremaining: 28.1ms\n",
            "493:\tlearn: 0.0545489\ttotal: 1.98s\tremaining: 24.1ms\n",
            "494:\tlearn: 0.0545472\ttotal: 1.98s\tremaining: 20ms\n",
            "495:\tlearn: 0.0545455\ttotal: 1.99s\tremaining: 16ms\n",
            "496:\tlearn: 0.0545425\ttotal: 1.99s\tremaining: 12ms\n",
            "497:\tlearn: 0.0545419\ttotal: 2s\tremaining: 8.01ms\n",
            "498:\tlearn: 0.0545369\ttotal: 2s\tremaining: 4.01ms\n",
            "499:\tlearn: 0.0545339\ttotal: 2s\tremaining: 0us\n",
            "Prediction on training set  92.43114612539016\n"
          ],
          "name": "stdout"
        }
      ]
    },
    {
      "cell_type": "code",
      "metadata": {
        "id": "wBvLjM4pUTSB"
      },
      "source": [
        "submit = pd.DataFrame()\n",
        "submit['Employee ID'] = test_data['Employee ID']"
      ],
      "execution_count": 252,
      "outputs": []
    },
    {
      "cell_type": "code",
      "metadata": {
        "id": "QEsi6prhUddG"
      },
      "source": [
        "submit[\"Burn Rate\"] = y_pred_test"
      ],
      "execution_count": 253,
      "outputs": []
    },
    {
      "cell_type": "code",
      "metadata": {
        "colab": {
          "base_uri": "https://localhost:8080/",
          "height": 204
        },
        "id": "Ad0qchtaeZ6U",
        "outputId": "901c0eaa-9952-4c13-8b7f-a9c353235c3f"
      },
      "source": [
        "submit.head()"
      ],
      "execution_count": 254,
      "outputs": [
        {
          "output_type": "execute_result",
          "data": {
            "text/html": [
              "<div>\n",
              "<style scoped>\n",
              "    .dataframe tbody tr th:only-of-type {\n",
              "        vertical-align: middle;\n",
              "    }\n",
              "\n",
              "    .dataframe tbody tr th {\n",
              "        vertical-align: top;\n",
              "    }\n",
              "\n",
              "    .dataframe thead th {\n",
              "        text-align: right;\n",
              "    }\n",
              "</style>\n",
              "<table border=\"1\" class=\"dataframe\">\n",
              "  <thead>\n",
              "    <tr style=\"text-align: right;\">\n",
              "      <th></th>\n",
              "      <th>Employee ID</th>\n",
              "      <th>Burn Rate</th>\n",
              "    </tr>\n",
              "  </thead>\n",
              "  <tbody>\n",
              "    <tr>\n",
              "      <th>0</th>\n",
              "      <td>fffe31003300390039003000</td>\n",
              "      <td>0.620274</td>\n",
              "    </tr>\n",
              "    <tr>\n",
              "      <th>1</th>\n",
              "      <td>fffe31003300310037003800</td>\n",
              "      <td>0.351886</td>\n",
              "    </tr>\n",
              "    <tr>\n",
              "      <th>2</th>\n",
              "      <td>fffe33003400380035003900</td>\n",
              "      <td>0.441575</td>\n",
              "    </tr>\n",
              "    <tr>\n",
              "      <th>3</th>\n",
              "      <td>fffe3100370039003200</td>\n",
              "      <td>0.381566</td>\n",
              "    </tr>\n",
              "    <tr>\n",
              "      <th>4</th>\n",
              "      <td>fffe32003600390036003700</td>\n",
              "      <td>0.534085</td>\n",
              "    </tr>\n",
              "  </tbody>\n",
              "</table>\n",
              "</div>"
            ],
            "text/plain": [
              "                Employee ID  Burn Rate\n",
              "0  fffe31003300390039003000   0.620274\n",
              "1  fffe31003300310037003800   0.351886\n",
              "2  fffe33003400380035003900   0.441575\n",
              "3      fffe3100370039003200   0.381566\n",
              "4  fffe32003600390036003700   0.534085"
            ]
          },
          "metadata": {
            "tags": []
          },
          "execution_count": 254
        }
      ]
    },
    {
      "cell_type": "code",
      "metadata": {
        "id": "8mENdhVke2TF"
      },
      "source": [
        "submit.to_csv('/content/drive/MyDrive/train_data/sample_submission.csv',index=False)"
      ],
      "execution_count": 255,
      "outputs": []
    },
    {
      "cell_type": "code",
      "metadata": {
        "id": "SkK_WrZNfDqu"
      },
      "source": [
        ""
      ],
      "execution_count": null,
      "outputs": []
    }
  ]
}